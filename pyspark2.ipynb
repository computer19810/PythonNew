{
    "cells": [
        {
            "cell_type": "code",
            "execution_count": null,
            "source": [
                "from pyspark.mllib.linalg import Vectors \r\n",
                "from pyspark.ml import Pipeline \r\n",
                "from pyspark.ml.feature import StringIndexer, VectorIndexer \r\n",
                "from pyspark.ml.classification import DecisionTreeClassifier \r\n",
                "from pyspark.ml.tuning import CrossValidator, ParamGridBuilder \r\n",
                "from pyspark.ml.evaluation import MulticlassClassificationEvaluator \r\n",
                "from pyspark.sql.types import Row \r\n",
                "from pyspark.sql.functions import col, round \r\n",
                "from pyspark.sql.context import SQLContext\r\n",
                "\r\n",
                "train = SQLContext.read.format('com.databricks.spark.csv').options(header='true',inferschema = \"true\").load('filename.csv') \r\n",
                "train.cache() \r\n",
                "train.dtypes "
            ],
            "outputs": [],
            "metadata": {}
        }
    ],
    "metadata": {
        "orig_nbformat": 4,
        "language_info": {
            "name": "python"
        }
    },
    "nbformat": 4,
    "nbformat_minor": 2
}