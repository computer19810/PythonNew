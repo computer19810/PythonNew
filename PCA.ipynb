{
 "cells": [
  {
   "cell_type": "code",
   "execution_count": null,
   "metadata": {},
   "outputs": [],
   "source": [
    "from sklearn.decomposition import PCA\r\n",
    "import pandas as pd\r\n",
    "import os\r\n",
    "\r\n",
    "path=\"C:/Users/Administrator/Desktop/o25mso/homework/AMZN.csv\"#存放文件路径，这个文件在我的资源上传里\r\n",
    "\r\n",
    "df=pd.read_csv(path)#读取文件\r\n",
    "\r\n",
    "pca=PCA()#创建对象\r\n",
    "df=(df.iloc[:,2:]-df.iloc[:,2:].mean())/df.iloc[:,2:].std()#对数据进行中心化处理\r\n",
    "#print(df)\r\n",
    "pca.fit(df)\r\n",
    "print(pca.components_)#返回模型的各个特征向量\r\n",
    "print(pca.explained_variance_ratio_)#返回各个成分各自的方差百分比\r\n",
    "pca=PCA(2)#设置转化主成分个数两个\r\n",
    "pca.fit(df)\r\n",
    "low_d=pca.transform(df)\r\n",
    "print(low_d)#返回降维后的数据"
   ]
  }
 ],
 "metadata": {
  "interpreter": {
   "hash": "112ccbf03df3789b737d7516971948e1e09b833ea7af33f18c7286584c67d554"
  },
  "kernelspec": {
   "display_name": "Python 3.9.1 64-bit",
   "name": "python3"
  },
  "language_info": {
   "name": "python",
   "version": ""
  },
  "orig_nbformat": 4
 },
 "nbformat": 4,
 "nbformat_minor": 2
}