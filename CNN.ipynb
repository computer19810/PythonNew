{
 "cells": [
  {
   "cell_type": "code",
   "execution_count": 1,
   "metadata": {},
   "outputs": [
    {
     "ename": "ModuleNotFoundError",
     "evalue": "No module named 'tensorflow.contrib'",
     "output_type": "error",
     "traceback": [
      "\u001b[1;31m---------------------------------------------------------------------------\u001b[0m",
      "\u001b[1;31mModuleNotFoundError\u001b[0m                       Traceback (most recent call last)",
      "\u001b[1;32m<ipython-input-1-bcd9603fa502>\u001b[0m in \u001b[0;36m<module>\u001b[1;34m\u001b[0m\n\u001b[0;32m      6\u001b[0m \u001b[1;32mfrom\u001b[0m \u001b[0msklearn\u001b[0m \u001b[1;32mimport\u001b[0m \u001b[0mpreprocessing\u001b[0m\u001b[1;33m\u001b[0m\u001b[1;33m\u001b[0m\u001b[0m\n\u001b[0;32m      7\u001b[0m \u001b[1;32mimport\u001b[0m \u001b[0mtensorflow\u001b[0m \u001b[1;32mas\u001b[0m \u001b[0mtf\u001b[0m\u001b[1;33m\u001b[0m\u001b[1;33m\u001b[0m\u001b[0m\n\u001b[1;32m----> 8\u001b[1;33m \u001b[1;32mfrom\u001b[0m \u001b[0mtensorflow\u001b[0m\u001b[1;33m.\u001b[0m\u001b[0mcontrib\u001b[0m\u001b[1;33m.\u001b[0m\u001b[0mkeras\u001b[0m\u001b[1;33m.\u001b[0m\u001b[0mapi\u001b[0m\u001b[1;33m.\u001b[0m\u001b[0mkeras\u001b[0m\u001b[1;33m.\u001b[0m\u001b[0mmodels\u001b[0m \u001b[1;32mimport\u001b[0m \u001b[0mSequential\u001b[0m\u001b[1;33m\u001b[0m\u001b[1;33m\u001b[0m\u001b[0m\n\u001b[0m\u001b[0;32m      9\u001b[0m \u001b[1;32mfrom\u001b[0m \u001b[0mtensorflow\u001b[0m\u001b[1;33m.\u001b[0m\u001b[0mcontrib\u001b[0m\u001b[1;33m.\u001b[0m\u001b[0mkeras\u001b[0m\u001b[1;33m.\u001b[0m\u001b[0mapi\u001b[0m\u001b[1;33m.\u001b[0m\u001b[0mkeras\u001b[0m\u001b[1;33m.\u001b[0m\u001b[0mlayers\u001b[0m \u001b[1;32mimport\u001b[0m \u001b[0mDense\u001b[0m\u001b[1;33m,\u001b[0m \u001b[0mDropout\u001b[0m\u001b[1;33m,\u001b[0m \u001b[0mReshape\u001b[0m\u001b[1;33m,\u001b[0m\u001b[0mDropout\u001b[0m\u001b[1;33m,\u001b[0m\u001b[0mActivation\u001b[0m\u001b[1;33m,\u001b[0m\u001b[0mFlatten\u001b[0m\u001b[1;33m\u001b[0m\u001b[1;33m\u001b[0m\u001b[0m\n\u001b[0;32m     10\u001b[0m \u001b[1;32mfrom\u001b[0m \u001b[0mtensorflow\u001b[0m\u001b[1;33m.\u001b[0m\u001b[0mcontrib\u001b[0m\u001b[1;33m.\u001b[0m\u001b[0mkeras\u001b[0m\u001b[1;33m.\u001b[0m\u001b[0mapi\u001b[0m\u001b[1;33m.\u001b[0m\u001b[0mkeras\u001b[0m\u001b[1;33m.\u001b[0m\u001b[0mlayers\u001b[0m \u001b[1;32mimport\u001b[0m \u001b[0mEmbedding\u001b[0m\u001b[1;33m\u001b[0m\u001b[1;33m\u001b[0m\u001b[0m\n",
      "\u001b[1;31mModuleNotFoundError\u001b[0m: No module named 'tensorflow.contrib'"
     ]
    }
   ],
   "source": [
    "import pandas as pd\r\n",
    "import numpy as np\r\n",
    "from time import time\r\n",
    "import datetime\r\n",
    "#import quandl as quandl\r\n",
    "from sklearn import preprocessing\r\n",
    "import tensorflow as tf\r\n",
    "from tensorflow.contrib.keras.api.keras.models import Sequential\r\n",
    "from tensorflow.contrib.keras.api.keras.layers import Dense, Dropout, Reshape,Dropout,Activation,Flatten\r\n",
    "from tensorflow.contrib.keras.api.keras.layers import Embedding\r\n",
    "from tensorflow.contrib.keras.api.keras.layers import LSTM\r\n",
    "from tensorflow.contrib.keras.api.keras.layers import Conv2D,MaxPooling2D\r\n",
    "from tensorflow.contrib.keras.api.keras.layers import Conv1D,MaxPooling1D\r\n",
    "from tensorflow.contrib.keras.api.keras.optimizers import SGD\r\n",
    "\r\n",
    "from tensorflow.keras.optimizers import Adam\r\n",
    "#import cv2\r\n",
    "import tensorflow as tf\r\n",
    "from tensorflow.keras.preprocessing.image import img_to_array\r\n",
    "from sklearn.model_selection import train_test_split\r\n",
    "from tensorflow.python.keras.callbacks import ModelCheckpoint, ReduceLROnPlateau\r\n",
    "from tensorflow.keras.applications.resnet50 import ResNet50\r\n",
    "from tensorflow.keras.models import load_model\r\n",
    "import os\r\n",
    "import matplotlib.pyplot as plt\r\n",
    "import seaborn as sns\r\n"
   ]
  },
  {
   "cell_type": "code",
   "execution_count": 143,
   "metadata": {},
   "outputs": [
    {
     "data": {
      "text/html": [
       "<div>\n",
       "<style scoped>\n",
       "    .dataframe tbody tr th:only-of-type {\n",
       "        vertical-align: middle;\n",
       "    }\n",
       "\n",
       "    .dataframe tbody tr th {\n",
       "        vertical-align: top;\n",
       "    }\n",
       "\n",
       "    .dataframe thead th {\n",
       "        text-align: right;\n",
       "    }\n",
       "</style>\n",
       "<table border=\"1\" class=\"dataframe\">\n",
       "  <thead>\n",
       "    <tr style=\"text-align: right;\">\n",
       "      <th></th>\n",
       "      <th>Date</th>\n",
       "      <th>Open</th>\n",
       "      <th>High</th>\n",
       "      <th>Low</th>\n",
       "      <th>Close</th>\n",
       "      <th>Adj Close</th>\n",
       "      <th>Volume</th>\n",
       "    </tr>\n",
       "  </thead>\n",
       "  <tbody>\n",
       "    <tr>\n",
       "      <th>0</th>\n",
       "      <td>2015-03-06</td>\n",
       "      <td>170.0</td>\n",
       "      <td>182.0</td>\n",
       "      <td>155.0</td>\n",
       "      <td>157.5</td>\n",
       "      <td>134.963135</td>\n",
       "      <td>4648431</td>\n",
       "    </tr>\n",
       "    <tr>\n",
       "      <th>1</th>\n",
       "      <td>2015-03-09</td>\n",
       "      <td>162.0</td>\n",
       "      <td>163.0</td>\n",
       "      <td>157.0</td>\n",
       "      <td>157.0</td>\n",
       "      <td>134.534668</td>\n",
       "      <td>885810</td>\n",
       "    </tr>\n",
       "    <tr>\n",
       "      <th>2</th>\n",
       "      <td>2015-03-10</td>\n",
       "      <td>158.5</td>\n",
       "      <td>159.5</td>\n",
       "      <td>155.0</td>\n",
       "      <td>155.0</td>\n",
       "      <td>132.820847</td>\n",
       "      <td>519293</td>\n",
       "    </tr>\n",
       "    <tr>\n",
       "      <th>3</th>\n",
       "      <td>2015-03-11</td>\n",
       "      <td>155.5</td>\n",
       "      <td>155.5</td>\n",
       "      <td>151.0</td>\n",
       "      <td>152.5</td>\n",
       "      <td>130.678574</td>\n",
       "      <td>491729</td>\n",
       "    </tr>\n",
       "    <tr>\n",
       "      <th>4</th>\n",
       "      <td>2015-03-12</td>\n",
       "      <td>151.0</td>\n",
       "      <td>153.0</td>\n",
       "      <td>149.0</td>\n",
       "      <td>152.0</td>\n",
       "      <td>130.250122</td>\n",
       "      <td>760386</td>\n",
       "    </tr>\n",
       "  </tbody>\n",
       "</table>\n",
       "</div>"
      ],
      "text/plain": [
       "         Date   Open   High    Low  Close   Adj Close   Volume\n",
       "0  2015-03-06  170.0  182.0  155.0  157.5  134.963135  4648431\n",
       "1  2015-03-09  162.0  163.0  157.0  157.0  134.534668   885810\n",
       "2  2015-03-10  158.5  159.5  155.0  155.0  132.820847   519293\n",
       "3  2015-03-11  155.5  155.5  151.0  152.5  130.678574   491729\n",
       "4  2015-03-12  151.0  153.0  149.0  152.0  130.250122   760386"
      ]
     },
     "execution_count": 143,
     "metadata": {},
     "output_type": "execute_result"
    }
   ],
   "source": [
    "#-------------------------------------------------------------------------------------------------------------\r\n",
    "# 1: 加载数据文件，查看数据信息\r\n",
    "df = pd.read_csv('train.csv')\r\n",
    "df.head() # broadband 即可：0-离开，1-留存\r\n",
    "df_test = pd.read_csv('test.csv')\r\n",
    "\r\n",
    "from tqdm import tqdm_notebook\r\n",
    "from sklearn.preprocessing import LabelEncoder\r\n",
    "# LabelEncoder\r\n",
    "for col in tqdm_notebook(df.columns):\r\n",
    "    if df[col].dtype == \"object\":\r\n",
    "        encoder = LabelEncoder()\r\n",
    "        encoder.fit(list(df[col].values) + list(df_test[col].values))\r\n",
    "        df[col] = encoder.transform(list(df[col].values))\r\n",
    "        df_test[col] = encoder.transform(list(df_test[col].values))\r\n",
    "        \r\n",
    "df = df.reset_index() # 重置索引\r\n",
    "df_test = df_test.reset_index()\r\n",
    "def clean_top_cols(df):\r\n",
    "    new_cols = [col for col in df.columns if df[col].value_counts(dropna=False, normalize=True).values[0] > 0.80]\r\n",
    "    return new_cols\r\n",
    "df_cols = clean_top_cols(df)\r\n",
    "df_test_clos = clean_top_cols(df_test)\r\n",
    "cols_to_drop = list(set(df_cols + df_test_clos))\r\n",
    "if 'bad_good' in cols_to_drop : # 查看标签列是否在其中\r\n",
    "    cols_to_drop.remove('bad_good') # 删除标签列\r\n",
    "#print(\"原始的train shape : \", df)\r\n",
    "df = df.drop(cols_to_drop, axis=1)\r\n",
    "df_test = df_test.drop(cols_to_drop, axis=1)\r\n",
    "#print(\"清理后的train shape : \", df.shape)\r\n",
    "\r\n",
    "y = df['bad_good'] # 标签\r\n",
    "X1 = df.iloc[:, 1:-1] # 客户 id 没有用，故丢弃 cust_id"
   ]
  },
  {
   "cell_type": "code",
   "execution_count": 144,
   "metadata": {},
   "outputs": [
    {
     "data": {
      "text/plain": [
       "1554"
      ]
     },
     "execution_count": 144,
     "metadata": {},
     "output_type": "execute_result"
    }
   ],
   "source": [
    "x0 = df['Adj Close'].values\n",
    "len(x0)"
   ]
  },
  {
   "cell_type": "code",
   "execution_count": 145,
   "metadata": {},
   "outputs": [
    {
     "data": {
      "text/plain": [
       "(1534, 20)"
      ]
     },
     "execution_count": 145,
     "metadata": {},
     "output_type": "execute_result"
    }
   ],
   "source": [
    "m = max(x0)\n",
    "x0=x0/m\n",
    "x0[:10]\n",
    "n = len(x0)\n",
    "p =20\n",
    "x = np.array([x0[k:k+p] for k in range(n-p)])\n",
    "x.shape"
   ]
  },
  {
   "cell_type": "code",
   "execution_count": 146,
   "metadata": {},
   "outputs": [
    {
     "data": {
      "text/plain": [
       "(1534,)"
      ]
     },
     "execution_count": 146,
     "metadata": {},
     "output_type": "execute_result"
    }
   ],
   "source": [
    "y =np.array(x0[p:])\n",
    "y.shape"
   ]
  },
  {
   "cell_type": "code",
   "execution_count": 147,
   "metadata": {},
   "outputs": [
    {
     "data": {
      "text/plain": [
       "(1534, 20, 1)"
      ]
     },
     "execution_count": 147,
     "metadata": {},
     "output_type": "execute_result"
    }
   ],
   "source": [
    "X = x[:-1]\n",
    "X = x[:, :, np.newaxis]\n",
    "X.shape"
   ]
  },
  {
   "cell_type": "code",
   "execution_count": 148,
   "metadata": {},
   "outputs": [
    {
     "data": {
      "text/plain": [
       "(1227, 20, 1)"
      ]
     },
     "execution_count": 148,
     "metadata": {},
     "output_type": "execute_result"
    }
   ],
   "source": [
    "from sklearn.model_selection import train_test_split\n",
    "X_train,X_test,Y_train,Y_test = train_test_split(X, y,test_size=0.2,shuffle=False)\n",
    "X_train.shape"
   ]
  },
  {
   "cell_type": "code",
   "execution_count": 149,
   "metadata": {},
   "outputs": [
    {
     "name": "stdout",
     "output_type": "stream",
     "text": [
      "Model: \"sequential_16\"\n",
      "_________________________________________________________________\n",
      "Layer (type)                 Output Shape              Param #   \n",
      "=================================================================\n",
      "conv1d_16 (Conv1D)           (None, 20, 50)            250       \n",
      "_________________________________________________________________\n",
      "max_pooling1d_16 (MaxPooling (None, 10, 50)            0         \n",
      "_________________________________________________________________\n",
      "flatten_15 (Flatten)         (None, 500)               0         \n",
      "_________________________________________________________________\n",
      "dense_28 (Dense)             (None, 20)                10020     \n",
      "_________________________________________________________________\n",
      "dropout_15 (Dropout)         (None, 20)                0         \n",
      "_________________________________________________________________\n",
      "activation_28 (Activation)   (None, 20)                0         \n",
      "_________________________________________________________________\n",
      "dense_29 (Dense)             (None, 1)                 21        \n",
      "_________________________________________________________________\n",
      "activation_29 (Activation)   (None, 1)                 0         \n",
      "=================================================================\n",
      "Total params: 10,291\n",
      "Trainable params: 10,291\n",
      "Non-trainable params: 0\n",
      "_________________________________________________________________\n"
     ]
    }
   ],
   "source": [
    "model = Sequential()\n",
    "model.add(Conv1D(50,4,padding='same',activation='relu',input_shape=(p,1)))\n",
    "model.add(MaxPooling1D(2))\n",
    "model.add(Flatten())\n",
    "model.add(Dense(20))\n",
    "model.add(Dropout(0.2))\n",
    "model.add(Activation('relu'))\n",
    "model.add(Dense(1))\n",
    "model.add(Activation(\"sigmoid\"))\n",
    "#from tensorflow.contrib.keras.api.keras.optimizers import Adam\n",
    "model.compile(loss='mse', optimizer=SGD(lr=0.8), metrics=['accuracy'])\n",
    "model.summary()"
   ]
  },
  {
   "cell_type": "code",
   "execution_count": 150,
   "metadata": {},
   "outputs": [
    {
     "name": "stdout",
     "output_type": "stream",
     "text": [
      "Epoch 1/50\n",
      "1227/1227 [==============================] - 0s 291us/sample - loss: 0.0115 - acc: 8.1500e-04\n",
      "Epoch 2/50\n",
      "1227/1227 [==============================] - 0s 120us/sample - loss: 0.0069 - acc: 8.1500e-04\n",
      "Epoch 3/50\n",
      "1227/1227 [==============================] - 0s 114us/sample - loss: 0.0051 - acc: 8.1500e-04\n",
      "Epoch 4/50\n",
      "1227/1227 [==============================] - 0s 126us/sample - loss: 0.0044 - acc: 8.1500e-04\n",
      "Epoch 5/50\n",
      "1227/1227 [==============================] - 0s 125us/sample - loss: 0.0042 - acc: 8.1500e-04\n",
      "Epoch 6/50\n",
      "1227/1227 [==============================] - 0s 186us/sample - loss: 0.0037 - acc: 8.1500e-04\n",
      "Epoch 7/50\n",
      "1227/1227 [==============================] - 0s 118us/sample - loss: 0.0033 - acc: 8.1500e-04\n",
      "Epoch 8/50\n",
      "1227/1227 [==============================] - 0s 107us/sample - loss: 0.0037 - acc: 8.1500e-04\n",
      "Epoch 9/50\n",
      "1227/1227 [==============================] - 0s 111us/sample - loss: 0.0036 - acc: 8.1500e-04\n",
      "Epoch 10/50\n",
      "1227/1227 [==============================] - 0s 123us/sample - loss: 0.0028 - acc: 8.1500e-04\n",
      "Epoch 11/50\n",
      "1227/1227 [==============================] - 0s 114us/sample - loss: 0.0027 - acc: 8.1500e-04\n",
      "Epoch 12/50\n",
      "1227/1227 [==============================] - 0s 115us/sample - loss: 0.0026 - acc: 8.1500e-04\n",
      "Epoch 13/50\n",
      "1227/1227 [==============================] - 0s 102us/sample - loss: 0.0028 - acc: 8.1500e-04\n",
      "Epoch 14/50\n",
      "1227/1227 [==============================] - 0s 104us/sample - loss: 0.0024 - acc: 8.1500e-04\n",
      "Epoch 15/50\n",
      "1227/1227 [==============================] - 0s 100us/sample - loss: 0.0024 - acc: 8.1500e-04\n",
      "Epoch 16/50\n",
      "1227/1227 [==============================] - 0s 107us/sample - loss: 0.0022 - acc: 8.1500e-04\n",
      "Epoch 17/50\n",
      "1227/1227 [==============================] - 0s 101us/sample - loss: 0.0022 - acc: 8.1500e-04\n",
      "Epoch 18/50\n",
      "1227/1227 [==============================] - 0s 109us/sample - loss: 0.0023 - acc: 8.1500e-04\n",
      "Epoch 19/50\n",
      "1227/1227 [==============================] - 0s 107us/sample - loss: 0.0022 - acc: 8.1500e-04\n",
      "Epoch 20/50\n",
      "1227/1227 [==============================] - 0s 102us/sample - loss: 0.0020 - acc: 8.1500e-04\n",
      "Epoch 21/50\n",
      "1227/1227 [==============================] - 0s 104us/sample - loss: 0.0018 - acc: 8.1500e-04\n",
      "Epoch 22/50\n",
      "1227/1227 [==============================] - 0s 103us/sample - loss: 0.0019 - acc: 8.1500e-04\n",
      "Epoch 23/50\n",
      "1227/1227 [==============================] - 0s 102us/sample - loss: 0.0017 - acc: 8.1500e-04\n",
      "Epoch 24/50\n",
      "1227/1227 [==============================] - 0s 132us/sample - loss: 0.0018 - acc: 8.1500e-04\n",
      "Epoch 25/50\n",
      "1227/1227 [==============================] - 0s 137us/sample - loss: 0.0017 - acc: 8.1500e-04\n",
      "Epoch 26/50\n",
      "1227/1227 [==============================] - 0s 146us/sample - loss: 0.0018 - acc: 8.1500e-04\n",
      "Epoch 27/50\n",
      "1227/1227 [==============================] - 0s 176us/sample - loss: 0.0017 - acc: 8.1500e-04\n",
      "Epoch 28/50\n",
      "1227/1227 [==============================] - 0s 154us/sample - loss: 0.0017 - acc: 8.1500e-04\n",
      "Epoch 29/50\n",
      "1227/1227 [==============================] - 0s 165us/sample - loss: 0.0017 - acc: 8.1500e-04\n",
      "Epoch 30/50\n",
      "1227/1227 [==============================] - 0s 118us/sample - loss: 0.0017 - acc: 8.1500e-04\n",
      "Epoch 31/50\n",
      "1227/1227 [==============================] - 0s 136us/sample - loss: 0.0016 - acc: 8.1500e-04\n",
      "Epoch 32/50\n",
      "1227/1227 [==============================] - 0s 149us/sample - loss: 0.0016 - acc: 8.1500e-04\n",
      "Epoch 33/50\n",
      "1227/1227 [==============================] - 0s 134us/sample - loss: 0.0014 - acc: 8.1500e-04\n",
      "Epoch 34/50\n",
      "1227/1227 [==============================] - 0s 145us/sample - loss: 0.0017 - acc: 8.1500e-04\n",
      "Epoch 35/50\n",
      "1227/1227 [==============================] - 0s 162us/sample - loss: 0.0017 - acc: 8.1500e-04\n",
      "Epoch 36/50\n",
      "1227/1227 [==============================] - 0s 212us/sample - loss: 0.0016 - acc: 8.1500e-04\n",
      "Epoch 37/50\n",
      "1227/1227 [==============================] - 0s 150us/sample - loss: 0.0016 - acc: 8.1500e-04\n",
      "Epoch 38/50\n",
      "1227/1227 [==============================] - 0s 153us/sample - loss: 0.0015 - acc: 8.1500e-04\n",
      "Epoch 39/50\n",
      "1227/1227 [==============================] - 0s 148us/sample - loss: 0.0014 - acc: 8.1500e-04\n",
      "Epoch 40/50\n",
      "1227/1227 [==============================] - 0s 161us/sample - loss: 0.0017 - acc: 8.1500e-04\n",
      "Epoch 41/50\n",
      "1227/1227 [==============================] - 0s 148us/sample - loss: 0.0013 - acc: 8.1500e-04\n",
      "Epoch 42/50\n",
      "1227/1227 [==============================] - 0s 136us/sample - loss: 0.0014 - acc: 8.1500e-04\n",
      "Epoch 43/50\n",
      "1227/1227 [==============================] - 0s 124us/sample - loss: 0.0016 - acc: 8.1500e-04\n",
      "Epoch 44/50\n",
      "1227/1227 [==============================] - 0s 115us/sample - loss: 0.0013 - acc: 8.1500e-04\n",
      "Epoch 45/50\n",
      "1227/1227 [==============================] - 0s 158us/sample - loss: 0.0013 - acc: 8.1500e-04\n",
      "Epoch 46/50\n",
      "1227/1227 [==============================] - 0s 143us/sample - loss: 0.0016 - acc: 8.1500e-04\n",
      "Epoch 47/50\n",
      "1227/1227 [==============================] - 0s 121us/sample - loss: 0.0014 - acc: 8.1500e-04\n",
      "Epoch 48/50\n",
      "1227/1227 [==============================] - 0s 116us/sample - loss: 0.0015 - acc: 8.1500e-04\n",
      "Epoch 49/50\n",
      "1227/1227 [==============================] - 0s 125us/sample - loss: 0.0014 - acc: 8.1500e-04\n",
      "Epoch 50/50\n",
      "1227/1227 [==============================] - 0s 154us/sample - loss: 0.0014 - acc: 8.1500e-04\n"
     ]
    },
    {
     "data": {
      "text/plain": [
       "<tensorflow.python.keras.callbacks.History at 0x22f1fc93648>"
      ]
     },
     "execution_count": 150,
     "metadata": {},
     "output_type": "execute_result"
    }
   ],
   "source": [
    "model.fit(X_train, Y_train, epochs=50, batch_size=32)"
   ]
  },
  {
   "cell_type": "code",
   "execution_count": 151,
   "metadata": {},
   "outputs": [
    {
     "name": "stdout",
     "output_type": "stream",
     "text": [
      "[[57.54308083 57.360399   56.62969176 ... 53.97736143 54.23317788\n",
      "  53.55099996]\n",
      " [57.5772415  57.39445123 56.6633102  ... 54.0094053  54.26537362\n",
      "  53.58279071]\n",
      " [57.65865917 57.47561042 56.74343551 ... 54.08577783 54.34210811\n",
      "  53.65855999]\n",
      " ...\n",
      " [63.77252229 63.57006388 62.76025246 ... 59.8207888  60.10429918\n",
      "  59.34827071]\n",
      " [64.63234714 64.42715905 63.6064292  ... 60.62733367 60.91466653\n",
      "  60.14844477]\n",
      " [65.50824073 65.30027195 64.46841962 ... 61.44895157 61.74017834\n",
      "  60.96357279]]\n"
     ]
    },
    {
     "data": {
      "text/plain": [
       "array([0.95503736], dtype=float32)"
      ]
     },
     "execution_count": 151,
     "metadata": {},
     "output_type": "execute_result"
    },
    {
     "data": {
      "image/png": "[encoded data removed]",
      "image/svg+xml": "<?xml version=\"1.0\" encoding=\"utf-8\" standalone=\"no\"?>\r\n<!DOCTYPE svg PUBLIC \"-//W3C//DTD SVG 1.1//EN\"\r\n  \"http://www.w3.org/Graphics/SVG/1.1/DTD/svg11.dtd\">\r\n<!-- Created with matplotlib (https://matplotlib.org/) -->\r\n<svg height=\"248.518125pt\" version=\"1.1\" viewBox=\"0 0 378.465625 248.518125\" width=\"378.465625pt\" xmlns=\"http://www.w3.org/2000/svg\" xmlns:xlink=\"http://www.w3.org/1999/xlink\">\r\n <defs>\r\n  <style type=\"text/css\">\r\n*{stroke-linecap:butt;stroke-linejoin:round;}\r\n  </style>\r\n </defs>\r\n <g id=\"figure_1\">\r\n  <g id=\"patch_1\">\r\n   <path d=\"M 0 248.518125 \r\nL 378.465625 248.518125 \r\nL 378.465625 0 \r\nL 0 0 \r\nz\r\n\" style=\"fill:none;\"/>\r\n  </g>\r\n  <g id=\"axes_1\">\r\n   <g id=\"patch_2\">\r\n    <path d=\"M 36.465625 224.64 \r\nL 371.265625 224.64 \r\nL 371.265625 7.2 \r\nL 36.465625 7.2 \r\nz\r\n\" style=\"fill:#ffffff;\"/>\r\n   </g>\r\n   <g id=\"matplotlib.axis_1\">\r\n    <g id=\"xtick_1\">\r\n     <g id=\"line2d_1\">\r\n      <defs>\r\n       <path d=\"M 0 0 \r\nL 0 3.5 \r\n\" id=\"m8790c0f2ad\" style=\"stroke:#000000;stroke-width:0.8;\"/>\r\n      </defs>\r\n      <g>\r\n       <use style=\"stroke:#000000;stroke-width:0.8;\" x=\"51.683807\" xlink:href=\"#m8790c0f2ad\" y=\"224.64\"/>\r\n      </g>\r\n     </g>\r\n     <g id=\"text_1\">\r\n      <!-- 0 -->\r\n      <defs>\r\n       <path d=\"M 31.78125 66.40625 \r\nQ 24.171875 66.40625 20.328125 58.90625 \r\nQ 16.5 51.421875 16.5 36.375 \r\nQ 16.5 21.390625 20.328125 13.890625 \r\nQ 24.171875 6.390625 31.78125 6.390625 \r\nQ 39.453125 6.390625 43.28125 13.890625 \r\nQ 47.125 21.390625 47.125 36.375 \r\nQ 47.125 51.421875 43.28125 58.90625 \r\nQ 39.453125 66.40625 31.78125 66.40625 \r\nz\r\nM 31.78125 74.21875 \r\nQ 44.046875 74.21875 50.515625 64.515625 \r\nQ 56.984375 54.828125 56.984375 36.375 \r\nQ 56.984375 17.96875 50.515625 8.265625 \r\nQ 44.046875 -1.421875 31.78125 -1.421875 \r\nQ 19.53125 -1.421875 13.0625 8.265625 \r\nQ 6.59375 17.96875 6.59375 36.375 \r\nQ 6.59375 54.828125 13.0625 64.515625 \r\nQ 19.53125 74.21875 31.78125 74.21875 \r\nz\r\n\" id=\"DejaVuSans-48\"/>\r\n      </defs>\r\n      <g transform=\"translate(48.502557 239.238437)scale(0.1 -0.1)\">\r\n       <use xlink:href=\"#DejaVuSans-48\"/>\r\n      </g>\r\n     </g>\r\n    </g>\r\n    <g id=\"xtick_2\">\r\n     <g id=\"line2d_2\">\r\n      <g>\r\n       <use style=\"stroke:#000000;stroke-width:0.8;\" x=\"113.17141\" xlink:href=\"#m8790c0f2ad\" y=\"224.64\"/>\r\n      </g>\r\n     </g>\r\n     <g id=\"text_2\">\r\n      <!-- 20 -->\r\n      <defs>\r\n       <path d=\"M 19.1875 8.296875 \r\nL 53.609375 8.296875 \r\nL 53.609375 0 \r\nL 7.328125 0 \r\nL 7.328125 8.296875 \r\nQ 12.9375 14.109375 22.625 23.890625 \r\nQ 32.328125 33.6875 34.8125 36.53125 \r\nQ 39.546875 41.84375 41.421875 45.53125 \r\nQ 43.3125 49.21875 43.3125 52.78125 \r\nQ 43.3125 58.59375 39.234375 62.25 \r\nQ 35.15625 65.921875 28.609375 65.921875 \r\nQ 23.96875 65.921875 18.8125 64.3125 \r\nQ 13.671875 62.703125 7.8125 59.421875 \r\nL 7.8125 69.390625 \r\nQ 13.765625 71.78125 18.9375 73 \r\nQ 24.125 74.21875 28.421875 74.21875 \r\nQ 39.75 74.21875 46.484375 68.546875 \r\nQ 53.21875 62.890625 53.21875 53.421875 \r\nQ 53.21875 48.921875 51.53125 44.890625 \r\nQ 49.859375 40.875 45.40625 35.40625 \r\nQ 44.1875 33.984375 37.640625 27.21875 \r\nQ 31.109375 20.453125 19.1875 8.296875 \r\nz\r\n\" id=\"DejaVuSans-50\"/>\r\n      </defs>\r\n      <g transform=\"translate(106.80891 239.238437)scale(0.1 -0.1)\">\r\n       <use xlink:href=\"#DejaVuSans-50\"/>\r\n       <use x=\"63.623047\" xlink:href=\"#DejaVuSans-48\"/>\r\n      </g>\r\n     </g>\r\n    </g>\r\n    <g id=\"xtick_3\">\r\n     <g id=\"line2d_3\">\r\n      <g>\r\n       <use style=\"stroke:#000000;stroke-width:0.8;\" x=\"174.659013\" xlink:href=\"#m8790c0f2ad\" y=\"224.64\"/>\r\n      </g>\r\n     </g>\r\n     <g id=\"text_3\">\r\n      <!-- 40 -->\r\n      <defs>\r\n       <path d=\"M 37.796875 64.3125 \r\nL 12.890625 25.390625 \r\nL 37.796875 25.390625 \r\nz\r\nM 35.203125 72.90625 \r\nL 47.609375 72.90625 \r\nL 47.609375 25.390625 \r\nL 58.015625 25.390625 \r\nL 58.015625 17.1875 \r\nL 47.609375 17.1875 \r\nL 47.609375 0 \r\nL 37.796875 0 \r\nL 37.796875 17.1875 \r\nL 4.890625 17.1875 \r\nL 4.890625 26.703125 \r\nz\r\n\" id=\"DejaVuSans-52\"/>\r\n      </defs>\r\n      <g transform=\"translate(168.296513 239.238437)scale(0.1 -0.1)\">\r\n       <use xlink:href=\"#DejaVuSans-52\"/>\r\n       <use x=\"63.623047\" xlink:href=\"#DejaVuSans-48\"/>\r\n      </g>\r\n     </g>\r\n    </g>\r\n    <g id=\"xtick_4\">\r\n     <g id=\"line2d_4\">\r\n      <g>\r\n       <use style=\"stroke:#000000;stroke-width:0.8;\" x=\"236.146617\" xlink:href=\"#m8790c0f2ad\" y=\"224.64\"/>\r\n      </g>\r\n     </g>\r\n     <g id=\"text_4\">\r\n      <!-- 60 -->\r\n      <defs>\r\n       <path d=\"M 33.015625 40.375 \r\nQ 26.375 40.375 22.484375 35.828125 \r\nQ 18.609375 31.296875 18.609375 23.390625 \r\nQ 18.609375 15.53125 22.484375 10.953125 \r\nQ 26.375 6.390625 33.015625 6.390625 \r\nQ 39.65625 6.390625 43.53125 10.953125 \r\nQ 47.40625 15.53125 47.40625 23.390625 \r\nQ 47.40625 31.296875 43.53125 35.828125 \r\nQ 39.65625 40.375 33.015625 40.375 \r\nz\r\nM 52.59375 71.296875 \r\nL 52.59375 62.3125 \r\nQ 48.875 64.0625 45.09375 64.984375 \r\nQ 41.3125 65.921875 37.59375 65.921875 \r\nQ 27.828125 65.921875 22.671875 59.328125 \r\nQ 17.53125 52.734375 16.796875 39.40625 \r\nQ 19.671875 43.65625 24.015625 45.921875 \r\nQ 28.375 48.1875 33.59375 48.1875 \r\nQ 44.578125 48.1875 50.953125 41.515625 \r\nQ 57.328125 34.859375 57.328125 23.390625 \r\nQ 57.328125 12.15625 50.6875 5.359375 \r\nQ 44.046875 -1.421875 33.015625 -1.421875 \r\nQ 20.359375 -1.421875 13.671875 8.265625 \r\nQ 6.984375 17.96875 6.984375 36.375 \r\nQ 6.984375 53.65625 15.1875 63.9375 \r\nQ 23.390625 74.21875 37.203125 74.21875 \r\nQ 40.921875 74.21875 44.703125 73.484375 \r\nQ 48.484375 72.75 52.59375 71.296875 \r\nz\r\n\" id=\"DejaVuSans-54\"/>\r\n      </defs>\r\n      <g transform=\"translate(229.784117 239.238437)scale(0.1 -0.1)\">\r\n       <use xlink:href=\"#DejaVuSans-54\"/>\r\n       <use x=\"63.623047\" xlink:href=\"#DejaVuSans-48\"/>\r\n      </g>\r\n     </g>\r\n    </g>\r\n    <g id=\"xtick_5\">\r\n     <g id=\"line2d_5\">\r\n      <g>\r\n       <use style=\"stroke:#000000;stroke-width:0.8;\" x=\"297.63422\" xlink:href=\"#m8790c0f2ad\" y=\"224.64\"/>\r\n      </g>\r\n     </g>\r\n     <g id=\"text_5\">\r\n      <!-- 80 -->\r\n      <defs>\r\n       <path d=\"M 31.78125 34.625 \r\nQ 24.75 34.625 20.71875 30.859375 \r\nQ 16.703125 27.09375 16.703125 20.515625 \r\nQ 16.703125 13.921875 20.71875 10.15625 \r\nQ 24.75 6.390625 31.78125 6.390625 \r\nQ 38.8125 6.390625 42.859375 10.171875 \r\nQ 46.921875 13.96875 46.921875 20.515625 \r\nQ 46.921875 27.09375 42.890625 30.859375 \r\nQ 38.875 34.625 31.78125 34.625 \r\nz\r\nM 21.921875 38.8125 \r\nQ 15.578125 40.375 12.03125 44.71875 \r\nQ 8.5 49.078125 8.5 55.328125 \r\nQ 8.5 64.0625 14.71875 69.140625 \r\nQ 20.953125 74.21875 31.78125 74.21875 \r\nQ 42.671875 74.21875 48.875 69.140625 \r\nQ 55.078125 64.0625 55.078125 55.328125 \r\nQ 55.078125 49.078125 51.53125 44.71875 \r\nQ 48 40.375 41.703125 38.8125 \r\nQ 48.828125 37.15625 52.796875 32.3125 \r\nQ 56.78125 27.484375 56.78125 20.515625 \r\nQ 56.78125 9.90625 50.3125 4.234375 \r\nQ 43.84375 -1.421875 31.78125 -1.421875 \r\nQ 19.734375 -1.421875 13.25 4.234375 \r\nQ 6.78125 9.90625 6.78125 20.515625 \r\nQ 6.78125 27.484375 10.78125 32.3125 \r\nQ 14.796875 37.15625 21.921875 38.8125 \r\nz\r\nM 18.3125 54.390625 \r\nQ 18.3125 48.734375 21.84375 45.5625 \r\nQ 25.390625 42.390625 31.78125 42.390625 \r\nQ 38.140625 42.390625 41.71875 45.5625 \r\nQ 45.3125 48.734375 45.3125 54.390625 \r\nQ 45.3125 60.0625 41.71875 63.234375 \r\nQ 38.140625 66.40625 31.78125 66.40625 \r\nQ 25.390625 66.40625 21.84375 63.234375 \r\nQ 18.3125 60.0625 18.3125 54.390625 \r\nz\r\n\" id=\"DejaVuSans-56\"/>\r\n      </defs>\r\n      <g transform=\"translate(291.27172 239.238437)scale(0.1 -0.1)\">\r\n       <use xlink:href=\"#DejaVuSans-56\"/>\r\n       <use x=\"63.623047\" xlink:href=\"#DejaVuSans-48\"/>\r\n      </g>\r\n     </g>\r\n    </g>\r\n    <g id=\"xtick_6\">\r\n     <g id=\"line2d_6\">\r\n      <g>\r\n       <use style=\"stroke:#000000;stroke-width:0.8;\" x=\"359.121823\" xlink:href=\"#m8790c0f2ad\" y=\"224.64\"/>\r\n      </g>\r\n     </g>\r\n     <g id=\"text_6\">\r\n      <!-- 100 -->\r\n      <defs>\r\n       <path d=\"M 12.40625 8.296875 \r\nL 28.515625 8.296875 \r\nL 28.515625 63.921875 \r\nL 10.984375 60.40625 \r\nL 10.984375 69.390625 \r\nL 28.421875 72.90625 \r\nL 38.28125 72.90625 \r\nL 38.28125 8.296875 \r\nL 54.390625 8.296875 \r\nL 54.390625 0 \r\nL 12.40625 0 \r\nz\r\n\" id=\"DejaVuSans-49\"/>\r\n      </defs>\r\n      <g transform=\"translate(349.578073 239.238437)scale(0.1 -0.1)\">\r\n       <use xlink:href=\"#DejaVuSans-49\"/>\r\n       <use x=\"63.623047\" xlink:href=\"#DejaVuSans-48\"/>\r\n       <use x=\"127.246094\" xlink:href=\"#DejaVuSans-48\"/>\r\n      </g>\r\n     </g>\r\n    </g>\r\n   </g>\r\n   <g id=\"matplotlib.axis_2\">\r\n    <g id=\"ytick_1\">\r\n     <g id=\"line2d_7\">\r\n      <defs>\r\n       <path d=\"M 0 0 \r\nL -3.5 0 \r\n\" id=\"m19d20496f9\" style=\"stroke:#000000;stroke-width:0.8;\"/>\r\n      </defs>\r\n      <g>\r\n       <use style=\"stroke:#000000;stroke-width:0.8;\" x=\"36.465625\" xlink:href=\"#m19d20496f9\" y=\"213.308232\"/>\r\n      </g>\r\n     </g>\r\n     <g id=\"text_7\">\r\n      <!-- 0.30 -->\r\n      <defs>\r\n       <path d=\"M 10.6875 12.40625 \r\nL 21 12.40625 \r\nL 21 0 \r\nL 10.6875 0 \r\nz\r\n\" id=\"DejaVuSans-46\"/>\r\n       <path d=\"M 40.578125 39.3125 \r\nQ 47.65625 37.796875 51.625 33 \r\nQ 55.609375 28.21875 55.609375 21.1875 \r\nQ 55.609375 10.40625 48.1875 4.484375 \r\nQ 40.765625 -1.421875 27.09375 -1.421875 \r\nQ 22.515625 -1.421875 17.65625 -0.515625 \r\nQ 12.796875 0.390625 7.625 2.203125 \r\nL 7.625 11.71875 \r\nQ 11.71875 9.328125 16.59375 8.109375 \r\nQ 21.484375 6.890625 26.8125 6.890625 \r\nQ 36.078125 6.890625 40.9375 10.546875 \r\nQ 45.796875 14.203125 45.796875 21.1875 \r\nQ 45.796875 27.640625 41.28125 31.265625 \r\nQ 36.765625 34.90625 28.71875 34.90625 \r\nL 20.21875 34.90625 \r\nL 20.21875 43.015625 \r\nL 29.109375 43.015625 \r\nQ 36.375 43.015625 40.234375 45.921875 \r\nQ 44.09375 48.828125 44.09375 54.296875 \r\nQ 44.09375 59.90625 40.109375 62.90625 \r\nQ 36.140625 65.921875 28.71875 65.921875 \r\nQ 24.65625 65.921875 20.015625 65.03125 \r\nQ 15.375 64.15625 9.8125 62.3125 \r\nL 9.8125 71.09375 \r\nQ 15.4375 72.65625 20.34375 73.4375 \r\nQ 25.25 74.21875 29.59375 74.21875 \r\nQ 40.828125 74.21875 47.359375 69.109375 \r\nQ 53.90625 64.015625 53.90625 55.328125 \r\nQ 53.90625 49.265625 50.4375 45.09375 \r\nQ 46.96875 40.921875 40.578125 39.3125 \r\nz\r\n\" id=\"DejaVuSans-51\"/>\r\n      </defs>\r\n      <g transform=\"translate(7.2 217.10745)scale(0.1 -0.1)\">\r\n       <use xlink:href=\"#DejaVuSans-48\"/>\r\n       <use x=\"63.623047\" xlink:href=\"#DejaVuSans-46\"/>\r\n       <use x=\"95.410156\" xlink:href=\"#DejaVuSans-51\"/>\r\n       <use x=\"159.033203\" xlink:href=\"#DejaVuSans-48\"/>\r\n      </g>\r\n     </g>\r\n    </g>\r\n    <g id=\"ytick_2\">\r\n     <g id=\"line2d_8\">\r\n      <g>\r\n       <use style=\"stroke:#000000;stroke-width:0.8;\" x=\"36.465625\" xlink:href=\"#m19d20496f9\" y=\"165.688173\"/>\r\n      </g>\r\n     </g>\r\n     <g id=\"text_8\">\r\n      <!-- 0.35 -->\r\n      <defs>\r\n       <path d=\"M 10.796875 72.90625 \r\nL 49.515625 72.90625 \r\nL 49.515625 64.59375 \r\nL 19.828125 64.59375 \r\nL 19.828125 46.734375 \r\nQ 21.96875 47.46875 24.109375 47.828125 \r\nQ 26.265625 48.1875 28.421875 48.1875 \r\nQ 40.625 48.1875 47.75 41.5 \r\nQ 54.890625 34.8125 54.890625 23.390625 \r\nQ 54.890625 11.625 47.5625 5.09375 \r\nQ 40.234375 -1.421875 26.90625 -1.421875 \r\nQ 22.3125 -1.421875 17.546875 -0.640625 \r\nQ 12.796875 0.140625 7.71875 1.703125 \r\nL 7.71875 11.625 \r\nQ 12.109375 9.234375 16.796875 8.0625 \r\nQ 21.484375 6.890625 26.703125 6.890625 \r\nQ 35.15625 6.890625 40.078125 11.328125 \r\nQ 45.015625 15.765625 45.015625 23.390625 \r\nQ 45.015625 31 40.078125 35.4375 \r\nQ 35.15625 39.890625 26.703125 39.890625 \r\nQ 22.75 39.890625 18.8125 39.015625 \r\nQ 14.890625 38.140625 10.796875 36.28125 \r\nz\r\n\" id=\"DejaVuSans-53\"/>\r\n      </defs>\r\n      <g transform=\"translate(7.2 169.487392)scale(0.1 -0.1)\">\r\n       <use xlink:href=\"#DejaVuSans-48\"/>\r\n       <use x=\"63.623047\" xlink:href=\"#DejaVuSans-46\"/>\r\n       <use x=\"95.410156\" xlink:href=\"#DejaVuSans-51\"/>\r\n       <use x=\"159.033203\" xlink:href=\"#DejaVuSans-53\"/>\r\n      </g>\r\n     </g>\r\n    </g>\r\n    <g id=\"ytick_3\">\r\n     <g id=\"line2d_9\">\r\n      <g>\r\n       <use style=\"stroke:#000000;stroke-width:0.8;\" x=\"36.465625\" xlink:href=\"#m19d20496f9\" y=\"118.068114\"/>\r\n      </g>\r\n     </g>\r\n     <g id=\"text_9\">\r\n      <!-- 0.40 -->\r\n      <g transform=\"translate(7.2 121.867333)scale(0.1 -0.1)\">\r\n       <use xlink:href=\"#DejaVuSans-48\"/>\r\n       <use x=\"63.623047\" xlink:href=\"#DejaVuSans-46\"/>\r\n       <use x=\"95.410156\" xlink:href=\"#DejaVuSans-52\"/>\r\n       <use x=\"159.033203\" xlink:href=\"#DejaVuSans-48\"/>\r\n      </g>\r\n     </g>\r\n    </g>\r\n    <g id=\"ytick_4\">\r\n     <g id=\"line2d_10\">\r\n      <g>\r\n       <use style=\"stroke:#000000;stroke-width:0.8;\" x=\"36.465625\" xlink:href=\"#m19d20496f9\" y=\"70.448056\"/>\r\n      </g>\r\n     </g>\r\n     <g id=\"text_10\">\r\n      <!-- 0.45 -->\r\n      <g transform=\"translate(7.2 74.247274)scale(0.1 -0.1)\">\r\n       <use xlink:href=\"#DejaVuSans-48\"/>\r\n       <use x=\"63.623047\" xlink:href=\"#DejaVuSans-46\"/>\r\n       <use x=\"95.410156\" xlink:href=\"#DejaVuSans-52\"/>\r\n       <use x=\"159.033203\" xlink:href=\"#DejaVuSans-53\"/>\r\n      </g>\r\n     </g>\r\n    </g>\r\n    <g id=\"ytick_5\">\r\n     <g id=\"line2d_11\">\r\n      <g>\r\n       <use style=\"stroke:#000000;stroke-width:0.8;\" x=\"36.465625\" xlink:href=\"#m19d20496f9\" y=\"22.827997\"/>\r\n      </g>\r\n     </g>\r\n     <g id=\"text_11\">\r\n      <!-- 0.50 -->\r\n      <g transform=\"translate(7.2 26.627216)scale(0.1 -0.1)\">\r\n       <use xlink:href=\"#DejaVuSans-48\"/>\r\n       <use x=\"63.623047\" xlink:href=\"#DejaVuSans-46\"/>\r\n       <use x=\"95.410156\" xlink:href=\"#DejaVuSans-53\"/>\r\n       <use x=\"159.033203\" xlink:href=\"#DejaVuSans-48\"/>\r\n      </g>\r\n     </g>\r\n    </g>\r\n   </g>\r\n   <g id=\"line2d_12\">\r\n    <path clip-path=\"url(#pddbcde8bea)\" d=\"M 51.683807 102.205178 \r\nL 54.758187 103.683133 \r\nL 57.832567 117.237811 \r\nL 60.906947 145.853292 \r\nL 63.981327 147.735889 \r\nL 67.055708 162.420168 \r\nL 70.130088 214.756364 \r\nL 73.204468 212.120746 \r\nL 76.278848 206.096398 \r\nL 79.353228 208.732077 \r\nL 82.427608 209.861594 \r\nL 85.501989 207.978996 \r\nL 88.576369 207.978996 \r\nL 91.650749 210.991168 \r\nL 94.725129 202.331206 \r\nL 97.799509 195.930392 \r\nL 100.873889 197.81299 \r\nL 103.94827 200.825162 \r\nL 107.02265 197.81299 \r\nL 110.09703 175.974847 \r\nL 113.17141 172.962701 \r\nL 116.24579 147.735889 \r\nL 119.32017 149.24196 \r\nL 122.394551 137.569884 \r\nL 125.468931 93.140573 \r\nL 128.543311 79.585868 \r\nL 131.617691 67.537264 \r\nL 134.692071 47.958212 \r\nL 137.766451 53.982559 \r\nL 140.840832 49.464313 \r\nL 143.915212 48.711293 \r\nL 146.989592 51.723407 \r\nL 150.063972 47.205191 \r\nL 153.138352 35.909608 \r\nL 156.212732 49.464313 \r\nL 159.287113 64.525092 \r\nL 162.361493 62.265967 \r\nL 165.435873 56.994704 \r\nL 168.510253 59.253795 \r\nL 171.584633 84.857134 \r\nL 174.659013 97.658816 \r\nL 177.733394 93.893624 \r\nL 180.807774 88.622326 \r\nL 183.882154 78.832848 \r\nL 186.956534 69.043335 \r\nL 190.030914 74.314601 \r\nL 193.105294 76.573723 \r\nL 196.179675 81.844989 \r\nL 199.254055 75.820672 \r\nL 202.328435 63.772068 \r\nL 205.402815 61.512947 \r\nL 208.477195 64.525092 \r\nL 211.551575 65.278143 \r\nL 214.625956 66.784214 \r\nL 217.700336 62.265967 \r\nL 220.774716 65.278143 \r\nL 223.849096 61.512947 \r\nL 226.923476 36.662632 \r\nL 229.997856 44.946097 \r\nL 233.072237 56.994704 \r\nL 236.146617 56.241681 \r\nL 239.220997 60.759896 \r\nL 242.295377 56.994704 \r\nL 245.369757 75.820672 \r\nL 248.444137 73.561551 \r\nL 251.518518 80.338919 \r\nL 254.592898 68.290284 \r\nL 257.667278 58.500775 \r\nL 260.741658 44.19302 \r\nL 263.816038 54.735579 \r\nL 266.890418 62.265967 \r\nL 269.964799 58.500775 \r\nL 273.039179 50.970387 \r\nL 276.113559 50.217363 \r\nL 279.187939 58.500775 \r\nL 282.262319 60.759896 \r\nL 285.336699 56.994704 \r\nL 288.41108 59.253795 \r\nL 291.48546 58.500775 \r\nL 294.55984 59.253795 \r\nL 297.63422 59.253795 \r\nL 300.7086 54.735579 \r\nL 303.78298 56.241681 \r\nL 306.857361 48.711293 \r\nL 309.931741 54.735579 \r\nL 313.006121 56.241681 \r\nL 316.080501 56.994704 \r\nL 319.154881 54.735579 \r\nL 322.229261 54.735579 \r\nL 325.303642 47.958212 \r\nL 328.378022 47.205191 \r\nL 331.452402 23.107954 \r\nL 334.526782 17.083636 \r\nL 337.601162 23.107954 \r\nL 340.675542 37.415709 \r\nL 343.749923 29.132244 \r\nL 346.824303 32.144416 \r\nL 349.898683 44.946097 \r\nL 352.973063 56.994704 \r\nL 356.047443 52.476489 \r\n\" style=\"fill:none;stroke:#1f77b4;stroke-linecap:square;stroke-width:1.5;\"/>\r\n   </g>\r\n   <g id=\"line2d_13\">\r\n    <path clip-path=\"url(#pddbcde8bea)\" d=\"M 51.683807 92.961418 \r\nL 54.758187 92.720355 \r\nL 57.832567 92.14581 \r\nL 60.906947 92.240272 \r\nL 63.981327 95.306797 \r\nL 67.055708 99.631717 \r\nL 70.130088 105.313608 \r\nL 73.204468 113.662551 \r\nL 76.278848 124.152226 \r\nL 79.353228 130.962286 \r\nL 82.427608 139.052937 \r\nL 85.501989 144.577667 \r\nL 88.576369 149.209131 \r\nL 91.650749 153.753287 \r\nL 94.725129 158.924753 \r\nL 97.799509 162.526596 \r\nL 100.873889 166.399816 \r\nL 103.94827 168.621215 \r\nL 107.02265 171.19954 \r\nL 110.09703 173.467119 \r\nL 113.17141 173.530358 \r\nL 116.24579 172.273269 \r\nL 119.32017 169.471195 \r\nL 122.394551 167.234952 \r\nL 125.468931 163.051242 \r\nL 128.543311 154.858296 \r\nL 131.617691 145.371845 \r\nL 134.692071 134.422665 \r\nL 137.766451 123.799926 \r\nL 140.840832 113.842362 \r\nL 143.915212 104.374928 \r\nL 146.989592 96.41067 \r\nL 150.063972 89.206217 \r\nL 153.138352 83.21764 \r\nL 156.212732 76.128113 \r\nL 159.287113 70.358715 \r\nL 162.361493 65.719331 \r\nL 165.435873 61.358336 \r\nL 168.510253 58.063009 \r\nL 171.584633 56.67246 \r\nL 174.659013 55.882994 \r\nL 177.733394 58.215912 \r\nL 180.807774 59.038644 \r\nL 183.882154 60.545879 \r\nL 186.956534 61.273241 \r\nL 190.030914 61.246532 \r\nL 193.105294 61.369718 \r\nL 196.179675 61.391914 \r\nL 199.254055 62.315323 \r\nL 202.328435 62.840565 \r\nL 205.402815 63.038371 \r\nL 208.477195 63.437333 \r\nL 211.551575 63.757077 \r\nL 214.625956 63.180006 \r\nL 217.700336 62.44779 \r\nL 220.774716 61.12593 \r\nL 223.849096 61.378375 \r\nL 226.923476 61.580184 \r\nL 229.997856 59.411493 \r\nL 233.072237 57.136194 \r\nL 236.146617 54.174092 \r\nL 239.220997 52.233352 \r\nL 242.295377 51.130019 \r\nL 245.369757 51.355244 \r\nL 248.444137 52.302665 \r\nL 251.518518 54.973833 \r\nL 254.592898 55.897328 \r\nL 257.667278 56.655117 \r\nL 260.741658 54.748097 \r\nL 263.816038 53.304357 \r\nL 266.890418 51.78276 \r\nL 269.964799 50.959943 \r\nL 273.039179 50.786745 \r\nL 276.113559 50.466434 \r\nL 279.187939 49.574758 \r\nL 282.262319 50.217736 \r\nL 285.336699 50.292073 \r\nL 288.41108 50.640512 \r\nL 291.48546 50.485168 \r\nL 294.55984 50.272857 \r\nL 297.63422 50.730318 \r\nL 300.7086 51.417688 \r\nL 303.78298 51.145261 \r\nL 306.857361 51.12596 \r\nL 309.931741 49.1622 \r\nL 313.006121 48.391439 \r\nL 316.080501 47.646394 \r\nL 319.154881 48.140271 \r\nL 322.229261 48.316336 \r\nL 325.303642 48.425244 \r\nL 328.378022 47.350635 \r\nL 331.452402 46.835952 \r\nL 334.526782 43.395527 \r\nL 337.601162 40.0721 \r\nL 340.675542 36.068655 \r\nL 343.749923 33.867068 \r\nL 346.824303 32.519464 \r\nL 349.898683 31.14867 \r\nL 352.973063 31.479738 \r\nL 356.047443 32.56343 \r\n\" style=\"fill:none;stroke:#ff0000;stroke-linecap:square;stroke-width:1.5;\"/>\r\n   </g>\r\n   <g id=\"patch_3\">\r\n    <path d=\"M 36.465625 224.64 \r\nL 36.465625 7.2 \r\n\" style=\"fill:none;stroke:#000000;stroke-linecap:square;stroke-linejoin:miter;stroke-width:0.8;\"/>\r\n   </g>\r\n   <g id=\"patch_4\">\r\n    <path d=\"M 371.265625 224.64 \r\nL 371.265625 7.2 \r\n\" style=\"fill:none;stroke:#000000;stroke-linecap:square;stroke-linejoin:miter;stroke-width:0.8;\"/>\r\n   </g>\r\n   <g id=\"patch_5\">\r\n    <path d=\"M 36.465625 224.64 \r\nL 371.265625 224.64 \r\n\" style=\"fill:none;stroke:#000000;stroke-linecap:square;stroke-linejoin:miter;stroke-width:0.8;\"/>\r\n   </g>\r\n   <g id=\"patch_6\">\r\n    <path d=\"M 36.465625 7.2 \r\nL 371.265625 7.2 \r\n\" style=\"fill:none;stroke:#000000;stroke-linecap:square;stroke-linejoin:miter;stroke-width:0.8;\"/>\r\n   </g>\r\n  </g>\r\n </g>\r\n <defs>\r\n  <clipPath id=\"pddbcde8bea\">\r\n   <rect height=\"217.44\" width=\"334.8\" x=\"36.465625\" y=\"7.2\"/>\r\n  </clipPath>\r\n </defs>\r\n</svg>\r\n",
      "text/plain": [
       "<Figure size 432x288 with 1 Axes>"
      ]
     },
     "metadata": {
      "needs_background": "light"
     },
     "output_type": "display_data"
    }
   ],
   "source": [
    "y_predict = model.predict(X_test)\n",
    "print(y_predict*(df['Adj Close'].values))\n",
    "plt.plot(Y_test[:100])\n",
    "plt.plot(y_predict[:100],'r')\n",
    "#ACC\n",
    "error = 0\n",
    "summary = 0\n",
    "for i in range(307) :\n",
    "    error += abs(y_predict[i] - Y_test[i])\n",
    "    summary += Y_test[i]\n",
    "acc = 1 - error/summary\n",
    "acc"
   ]
  },
  {
   "cell_type": "code",
   "execution_count": null,
   "metadata": {},
   "outputs": [],
   "source": []
  }
 ],
 "metadata": {
  "interpreter": {
   "hash": "112ccbf03df3789b737d7516971948e1e09b833ea7af33f18c7286584c67d554"
  },
  "kernelspec": {
   "display_name": "Python 3.9.1 64-bit",
   "name": "python3"
  },
  "language_info": {
   "codemirror_mode": {
    "name": "ipython",
    "version": 3
   },
   "file_extension": ".py",
   "mimetype": "text/x-python",
   "name": "python",
   "nbconvert_exporter": "python",
   "pygments_lexer": "ipython3",
   "version": "3.9.1"
  }
 },
 "nbformat": 4,
 "nbformat_minor": 4
}